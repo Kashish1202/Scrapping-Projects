{
 "cells": [
  {
   "cell_type": "code",
   "execution_count": 27,
   "id": "55529432",
   "metadata": {},
   "outputs": [
    {
     "name": "stdout",
     "output_type": "stream",
     "text": [
      "Requirement already satisfied: beautifulsoup4 in c:\\anaconda\\lib\\site-packages (4.10.0)\n",
      "Requirement already satisfied: soupsieve>1.2 in c:\\anaconda\\lib\\site-packages (from beautifulsoup4) (2.2.1)\n"
     ]
    }
   ],
   "source": [
    "!pip install beautifulsoup4"
   ]
  },
  {
   "cell_type": "code",
   "execution_count": 28,
   "id": "508d2b59",
   "metadata": {},
   "outputs": [
    {
     "name": "stdout",
     "output_type": "stream",
     "text": [
      "Requirement already satisfied: requests in c:\\anaconda\\lib\\site-packages (2.26.0)\n",
      "Requirement already satisfied: charset-normalizer~=2.0.0 in c:\\anaconda\\lib\\site-packages (from requests) (2.0.4)\n",
      "Requirement already satisfied: idna<4,>=2.5 in c:\\anaconda\\lib\\site-packages (from requests) (3.2)\n",
      "Requirement already satisfied: certifi>=2017.4.17 in c:\\anaconda\\lib\\site-packages (from requests) (2021.10.8)\n",
      "Requirement already satisfied: urllib3<1.27,>=1.21.1 in c:\\anaconda\\lib\\site-packages (from requests) (1.26.7)\n"
     ]
    }
   ],
   "source": [
    " !pip install requests"
   ]
  },
  {
   "cell_type": "code",
   "execution_count": 29,
   "id": "bd7c15db",
   "metadata": {},
   "outputs": [],
   "source": [
    "from bs4 import BeautifulSoup\n",
    "import requests\n",
    "import pandas as pd"
   ]
  },
  {
   "cell_type": "code",
   "execution_count": 30,
   "id": "efe498fc",
   "metadata": {},
   "outputs": [],
   "source": [
    "website = 'https://www.coingecko.com/'"
   ]
  },
  {
   "cell_type": "code",
   "execution_count": 31,
   "id": "b0ac9fa1",
   "metadata": {},
   "outputs": [],
   "source": [
    "response = requests.get(website)"
   ]
  },
  {
   "cell_type": "code",
   "execution_count": 32,
   "id": "ae1fc146",
   "metadata": {},
   "outputs": [
    {
     "data": {
      "text/plain": [
       "200"
      ]
     },
     "execution_count": 32,
     "metadata": {},
     "output_type": "execute_result"
    }
   ],
   "source": [
    "response.status_code"
   ]
  },
  {
   "cell_type": "code",
   "execution_count": 33,
   "id": "969d670d",
   "metadata": {},
   "outputs": [],
   "source": [
    "soup = BeautifulSoup(response.content, 'html.parser')"
   ]
  },
  {
   "cell_type": "code",
   "execution_count": 34,
   "id": "71dcf683",
   "metadata": {},
   "outputs": [],
   "source": [
    "results = soup.find('table', {'class': 'table-scrollable'}).find('tbody').find_all('tr')"
   ]
  },
  {
   "cell_type": "code",
   "execution_count": 35,
   "id": "0ee36280",
   "metadata": {},
   "outputs": [
    {
     "data": {
      "text/plain": [
       "100"
      ]
     },
     "execution_count": 35,
     "metadata": {},
     "output_type": "execute_result"
    }
   ],
   "source": [
    "len(results)"
   ]
  },
  {
   "cell_type": "code",
   "execution_count": 36,
   "id": "10fad5b9",
   "metadata": {},
   "outputs": [
    {
     "data": {
      "text/plain": [
       "'Bitcoin'"
      ]
     },
     "execution_count": 36,
     "metadata": {},
     "output_type": "execute_result"
    }
   ],
   "source": [
    "results[0].find('a', {'tw-hidden lg:tw-flex font-bold tw-items-center tw-justify-between'}).get_text().strip()"
   ]
  },
  {
   "cell_type": "code",
   "execution_count": 37,
   "id": "3fcf9a58",
   "metadata": {},
   "outputs": [],
   "source": [
    "# results[0].find('span', {'class': 'no-wrap'}).get_text().split()"
   ]
  },
  {
   "cell_type": "code",
   "execution_count": 38,
   "id": "7993b97b",
   "metadata": {},
   "outputs": [
    {
     "data": {
      "text/plain": [
       "'$21,637.09'"
      ]
     },
     "execution_count": 38,
     "metadata": {},
     "output_type": "execute_result"
    }
   ],
   "source": [
    "results[0].find('td', {'class': 'td-price price text-right pl-0'}).get_text().strip()"
   ]
  },
  {
   "cell_type": "code",
   "execution_count": 39,
   "id": "fc1da561",
   "metadata": {},
   "outputs": [
    {
     "data": {
      "text/plain": [
       "'0.3%'"
      ]
     },
     "execution_count": 39,
     "metadata": {},
     "output_type": "execute_result"
    }
   ],
   "source": [
    "results[0].find('td', {'class': 'td-change1h'}).get_text().strip()"
   ]
  },
  {
   "cell_type": "code",
   "execution_count": 40,
   "id": "079180e1",
   "metadata": {},
   "outputs": [
    {
     "data": {
      "text/plain": [
       "'-0.7%'"
      ]
     },
     "execution_count": 40,
     "metadata": {},
     "output_type": "execute_result"
    }
   ],
   "source": [
    "results[0].find('td', {'class': 'td-change24h'}).get_text().strip()"
   ]
  },
  {
   "cell_type": "code",
   "execution_count": 41,
   "id": "4d680790",
   "metadata": {},
   "outputs": [
    {
     "data": {
      "text/plain": [
       "'11.5%'"
      ]
     },
     "execution_count": 41,
     "metadata": {},
     "output_type": "execute_result"
    }
   ],
   "source": [
    "results[0].find('td', {'class': 'td-change7d'}).get_text().strip()"
   ]
  },
  {
   "cell_type": "code",
   "execution_count": 42,
   "id": "df4ac998",
   "metadata": {},
   "outputs": [
    {
     "data": {
      "text/plain": [
       "'$48,453,549,180'"
      ]
     },
     "execution_count": 42,
     "metadata": {},
     "output_type": "execute_result"
    }
   ],
   "source": [
    "results[0].find('td', {'class': 'td-liquidity_score'}).get_text().strip()"
   ]
  },
  {
   "cell_type": "code",
   "execution_count": 43,
   "id": "9b69c871",
   "metadata": {},
   "outputs": [
    {
     "data": {
      "text/plain": [
       "'$412,654,287,279'"
      ]
     },
     "execution_count": 43,
     "metadata": {},
     "output_type": "execute_result"
    }
   ],
   "source": [
    "results[0].find('td', {'class': 'td-market_cap'}).get_text().strip()"
   ]
  },
  {
   "cell_type": "code",
   "execution_count": 44,
   "id": "7b8c10ee",
   "metadata": {},
   "outputs": [],
   "source": [
    "name = []\n",
    "price = []\n",
    "change_1h = []\n",
    "change_24h = []\n",
    "change_7d = []\n",
    "volume_24h = []\n",
    "market_cap = []\n",
    "\n",
    "\n",
    "\n",
    "for result in results:\n",
    "    try:\n",
    "        name.append(result.find('a', {'tw-hidden lg:tw-flex font-bold tw-items-center tw-justify-between'}).get_text().strip())\n",
    "    except:    \n",
    "        name.append('n/a')\n",
    "    try:\n",
    "        price.append(result.find('td', {'class': 'td-price price text-right pl-0'}).get_text().strip())\n",
    "    except:    \n",
    "        price.append('n/a') \n",
    "    try:\n",
    "        change_1h.append(result.find('td', {'class': 'td-change1h'}).get_text().strip())\n",
    "    except:    \n",
    "        change_1h.append('n/a') \n",
    "    try:\n",
    "        change_24h.append(result.find('td', {'class': 'td-change24h'}).get_text().strip())\n",
    "    except:    \n",
    "        change_24h.append('n/a') \n",
    "    try:\n",
    "        change_7d.append(result.find('td', {'class': 'td-change7d'}).get_text().strip())\n",
    "    except:    \n",
    "        change_7d.append('n/a') \n",
    "    try:\n",
    "        volume_24h.append(result.find('td', {'class': 'td-liquidity_score'}).get_text().strip())\n",
    "    except:    \n",
    "        volume_24h.append('n/a')     \n",
    "    try:\n",
    "        market_cap.append(result.find('td', {'class': 'td-market_cap'}).get_text().strip())\n",
    "    except:    \n",
    "        market_cap.append('n/a')           \n",
    "        "
   ]
  },
  {
   "cell_type": "code",
   "execution_count": 45,
   "id": "4ec15d4e",
   "metadata": {},
   "outputs": [],
   "source": [
    "crypto_df = pd.DataFrame({'Coin': name, 'Price': price, 'Change_1h': change_1h, 'change_24h': change_24h,\n",
    "                         'change_7d': change_7d, 'Volume_24h': volume_24h, 'Market_cap': market_cap\n",
    "                         })"
   ]
  },
  {
   "cell_type": "code",
   "execution_count": 46,
   "id": "3a7e5f4b",
   "metadata": {},
   "outputs": [
    {
     "data": {
      "text/html": [
       "<div>\n",
       "<style scoped>\n",
       "    .dataframe tbody tr th:only-of-type {\n",
       "        vertical-align: middle;\n",
       "    }\n",
       "\n",
       "    .dataframe tbody tr th {\n",
       "        vertical-align: top;\n",
       "    }\n",
       "\n",
       "    .dataframe thead th {\n",
       "        text-align: right;\n",
       "    }\n",
       "</style>\n",
       "<table border=\"1\" class=\"dataframe\">\n",
       "  <thead>\n",
       "    <tr style=\"text-align: right;\">\n",
       "      <th></th>\n",
       "      <th>Coin</th>\n",
       "      <th>Price</th>\n",
       "      <th>Change_1h</th>\n",
       "      <th>change_24h</th>\n",
       "      <th>change_7d</th>\n",
       "      <th>Volume_24h</th>\n",
       "      <th>Market_cap</th>\n",
       "    </tr>\n",
       "  </thead>\n",
       "  <tbody>\n",
       "    <tr>\n",
       "      <th>0</th>\n",
       "      <td>Bitcoin</td>\n",
       "      <td>$21,637.09</td>\n",
       "      <td>0.3%</td>\n",
       "      <td>-0.7%</td>\n",
       "      <td>11.5%</td>\n",
       "      <td>$48,453,549,180</td>\n",
       "      <td>$412,654,287,279</td>\n",
       "    </tr>\n",
       "    <tr>\n",
       "      <th>1</th>\n",
       "      <td>Ethereum</td>\n",
       "      <td>$1,223.24</td>\n",
       "      <td>0.4%</td>\n",
       "      <td>-1.5%</td>\n",
       "      <td>14.4%</td>\n",
       "      <td>$13,679,930,557</td>\n",
       "      <td>$146,271,738,778</td>\n",
       "    </tr>\n",
       "    <tr>\n",
       "      <th>2</th>\n",
       "      <td>Tether</td>\n",
       "      <td>$1.00</td>\n",
       "      <td>0.2%</td>\n",
       "      <td>0.1%</td>\n",
       "      <td>-0.1%</td>\n",
       "      <td>$66,509,586,911</td>\n",
       "      <td>$66,010,810,067</td>\n",
       "    </tr>\n",
       "    <tr>\n",
       "      <th>3</th>\n",
       "      <td>USD Coin</td>\n",
       "      <td>$0.999597</td>\n",
       "      <td>-0.1%</td>\n",
       "      <td>-0.1%</td>\n",
       "      <td>-0.1%</td>\n",
       "      <td>$5,347,138,564</td>\n",
       "      <td>$55,431,459,983</td>\n",
       "    </tr>\n",
       "    <tr>\n",
       "      <th>4</th>\n",
       "      <td>BNB</td>\n",
       "      <td>$244.26</td>\n",
       "      <td>0.4%</td>\n",
       "      <td>1.3%</td>\n",
       "      <td>12.2%</td>\n",
       "      <td>$883,247,950</td>\n",
       "      <td>$39,876,071,335</td>\n",
       "    </tr>\n",
       "    <tr>\n",
       "      <th>...</th>\n",
       "      <td>...</td>\n",
       "      <td>...</td>\n",
       "      <td>...</td>\n",
       "      <td>...</td>\n",
       "      <td>...</td>\n",
       "      <td>...</td>\n",
       "      <td>...</td>\n",
       "    </tr>\n",
       "    <tr>\n",
       "      <th>95</th>\n",
       "      <td>Tether Gold</td>\n",
       "      <td>$1,730.96</td>\n",
       "      <td>-0.3%</td>\n",
       "      <td>-0.3%</td>\n",
       "      <td>-6.1%</td>\n",
       "      <td>$1,206,028</td>\n",
       "      <td>$428,021,643</td>\n",
       "    </tr>\n",
       "    <tr>\n",
       "      <th>96</th>\n",
       "      <td>Kava</td>\n",
       "      <td>$1.87</td>\n",
       "      <td>-0.1%</td>\n",
       "      <td>1.0%</td>\n",
       "      <td>3.6%</td>\n",
       "      <td>$13,983,673</td>\n",
       "      <td>$419,928,555</td>\n",
       "    </tr>\n",
       "    <tr>\n",
       "      <th>97</th>\n",
       "      <td>ECOMI</td>\n",
       "      <td>$0.001555105951</td>\n",
       "      <td>-0.4%</td>\n",
       "      <td>2.6%</td>\n",
       "      <td>8.3%</td>\n",
       "      <td>$1,130,291</td>\n",
       "      <td>$417,829,926</td>\n",
       "    </tr>\n",
       "    <tr>\n",
       "      <th>98</th>\n",
       "      <td>Gala</td>\n",
       "      <td>$0.055027522732</td>\n",
       "      <td>-0.2%</td>\n",
       "      <td>-1.1%</td>\n",
       "      <td>5.9%</td>\n",
       "      <td>$165,038,020</td>\n",
       "      <td>$415,380,090</td>\n",
       "    </tr>\n",
       "    <tr>\n",
       "      <th>99</th>\n",
       "      <td>Curve DAO</td>\n",
       "      <td>$1.04</td>\n",
       "      <td>0.5%</td>\n",
       "      <td>2.1%</td>\n",
       "      <td>38.4%</td>\n",
       "      <td>$118,816,867</td>\n",
       "      <td>$407,331,468</td>\n",
       "    </tr>\n",
       "  </tbody>\n",
       "</table>\n",
       "<p>100 rows × 7 columns</p>\n",
       "</div>"
      ],
      "text/plain": [
       "           Coin            Price Change_1h change_24h change_7d  \\\n",
       "0       Bitcoin       $21,637.09      0.3%      -0.7%     11.5%   \n",
       "1      Ethereum        $1,223.24      0.4%      -1.5%     14.4%   \n",
       "2        Tether            $1.00      0.2%       0.1%     -0.1%   \n",
       "3      USD Coin        $0.999597     -0.1%      -0.1%     -0.1%   \n",
       "4           BNB          $244.26      0.4%       1.3%     12.2%   \n",
       "..          ...              ...       ...        ...       ...   \n",
       "95  Tether Gold        $1,730.96     -0.3%      -0.3%     -6.1%   \n",
       "96         Kava            $1.87     -0.1%       1.0%      3.6%   \n",
       "97        ECOMI  $0.001555105951     -0.4%       2.6%      8.3%   \n",
       "98         Gala  $0.055027522732     -0.2%      -1.1%      5.9%   \n",
       "99    Curve DAO            $1.04      0.5%       2.1%     38.4%   \n",
       "\n",
       "         Volume_24h        Market_cap  \n",
       "0   $48,453,549,180  $412,654,287,279  \n",
       "1   $13,679,930,557  $146,271,738,778  \n",
       "2   $66,509,586,911   $66,010,810,067  \n",
       "3    $5,347,138,564   $55,431,459,983  \n",
       "4      $883,247,950   $39,876,071,335  \n",
       "..              ...               ...  \n",
       "95       $1,206,028      $428,021,643  \n",
       "96      $13,983,673      $419,928,555  \n",
       "97       $1,130,291      $417,829,926  \n",
       "98     $165,038,020      $415,380,090  \n",
       "99     $118,816,867      $407,331,468  \n",
       "\n",
       "[100 rows x 7 columns]"
      ]
     },
     "execution_count": 46,
     "metadata": {},
     "output_type": "execute_result"
    }
   ],
   "source": [
    "crypto_df"
   ]
  },
  {
   "cell_type": "code",
   "execution_count": 48,
   "id": "6bc070fd",
   "metadata": {},
   "outputs": [],
   "source": [
    "crypto_df.to_excel('crypto.xlsx', index=False, encoding= \"UTF-8\")"
   ]
  },
  {
   "cell_type": "code",
   "execution_count": null,
   "id": "6c01c822",
   "metadata": {},
   "outputs": [],
   "source": []
  },
  {
   "cell_type": "code",
   "execution_count": null,
   "id": "02a4c82c",
   "metadata": {},
   "outputs": [],
   "source": []
  }
 ],
 "metadata": {
  "kernelspec": {
   "display_name": "Python 3 (ipykernel)",
   "language": "python",
   "name": "python3"
  },
  "language_info": {
   "codemirror_mode": {
    "name": "ipython",
    "version": 3
   },
   "file_extension": ".py",
   "mimetype": "text/x-python",
   "name": "python",
   "nbconvert_exporter": "python",
   "pygments_lexer": "ipython3",
   "version": "3.9.7"
  }
 },
 "nbformat": 4,
 "nbformat_minor": 5
}
